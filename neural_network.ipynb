{
 "cells": [
  {
   "cell_type": "code",
   "execution_count": 1,
   "metadata": {},
   "outputs": [
    {
     "name": "stdout",
     "output_type": "stream",
     "text": [
      "WARNING:tensorflow:From C:\\Users\\kubic\\AppData\\Local\\Packages\\PythonSoftwareFoundation.Python.3.11_qbz5n2kfra8p0\\LocalCache\\local-packages\\Python311\\site-packages\\keras\\src\\losses.py:2976: The name tf.losses.sparse_softmax_cross_entropy is deprecated. Please use tf.compat.v1.losses.sparse_softmax_cross_entropy instead.\n",
      "\n"
     ]
    }
   ],
   "source": [
    "import tensorflow as tf\n",
    "from tensorflow import keras\n",
    "from tensorflow.keras import models, layers\n",
    "import numpy as np\n",
    "import matplotlib.pyplot as plt\n",
    "from sklearn.metrics import confusion_matrix, ConfusionMatrixDisplay\n",
    "from keras.utils import to_categorical\n",
    "from tensorflow.keras.callbacks import ModelCheckpoint\n",
    "from tensorflow.keras.callbacks import LearningRateScheduler\n",
    "from tensorflow.keras.callbacks import EarlyStopping\n",
    "from sklearn.metrics import classification_report\n"
   ]
  },
  {
   "cell_type": "markdown",
   "metadata": {},
   "source": [
    "## Loading data"
   ]
  },
  {
   "cell_type": "code",
   "execution_count": 2,
   "metadata": {},
   "outputs": [],
   "source": [
    "train = np.load('fashion_train.npy')\n",
    "test = np.load('fashion_test.npy')"
   ]
  },
  {
   "cell_type": "markdown",
   "metadata": {},
   "source": [
    "## Finding X,Y"
   ]
  },
  {
   "cell_type": "code",
   "execution_count": 3,
   "metadata": {},
   "outputs": [],
   "source": [
    "def find_x_y(data):\n",
    "    Y = data[:, -1]\n",
    "    X = np.delete(data, -1, axis=1)\n",
    "    return X, Y\n",
    "\n",
    "label_dict = {0: 'T_shirts', 1: 'Trouseres', 2: 'Pullover', 3: 'Dress', 4: 'Shirt'}\n",
    "\n",
    "train_x, train_y = find_x_y(train)\n",
    "test_x, test_y = find_x_y(test)"
   ]
  },
  {
   "cell_type": "markdown",
   "metadata": {},
   "source": [
    "## Normalizing data"
   ]
  },
  {
   "cell_type": "code",
   "execution_count": 4,
   "metadata": {},
   "outputs": [],
   "source": [
    "train_x = train_x.reshape((10000, 28, 28, 1))\n",
    "train_x = train_x.astype('float32') / 255\n",
    "\n",
    "test_x = test_x.reshape((5000, 28, 28, 1))\n",
    "test_x = test_x.astype('float32') / 255"
   ]
  },
  {
   "cell_type": "markdown",
   "metadata": {},
   "source": [
    "Converting the class labels into a one-hot encoded representation"
   ]
  },
  {
   "cell_type": "code",
   "execution_count": 5,
   "metadata": {},
   "outputs": [],
   "source": [
    "train_y = to_categorical(train_y)\n",
    "test_y = to_categorical(test_y)"
   ]
  },
  {
   "cell_type": "markdown",
   "metadata": {},
   "source": [
    "## Building the model"
   ]
  },
  {
   "cell_type": "code",
   "execution_count": 6,
   "metadata": {},
   "outputs": [
    {
     "name": "stdout",
     "output_type": "stream",
     "text": [
      "WARNING:tensorflow:From C:\\Users\\kubic\\AppData\\Local\\Packages\\PythonSoftwareFoundation.Python.3.11_qbz5n2kfra8p0\\LocalCache\\local-packages\\Python311\\site-packages\\keras\\src\\backend.py:873: The name tf.get_default_graph is deprecated. Please use tf.compat.v1.get_default_graph instead.\n",
      "\n",
      "WARNING:tensorflow:From C:\\Users\\kubic\\AppData\\Local\\Packages\\PythonSoftwareFoundation.Python.3.11_qbz5n2kfra8p0\\LocalCache\\local-packages\\Python311\\site-packages\\keras\\src\\layers\\pooling\\max_pooling2d.py:161: The name tf.nn.max_pool is deprecated. Please use tf.nn.max_pool2d instead.\n",
      "\n",
      "Model: \"sequential\"\n",
      "_________________________________________________________________\n",
      " Layer (type)                Output Shape              Param #   \n",
      "=================================================================\n",
      " conv2d (Conv2D)             (None, 26, 26, 64)        640       \n",
      "                                                                 \n",
      " max_pooling2d (MaxPooling2  (None, 13, 13, 64)        0         \n",
      " D)                                                              \n",
      "                                                                 \n",
      " conv2d_1 (Conv2D)           (None, 11, 11, 64)        36928     \n",
      "                                                                 \n",
      " max_pooling2d_1 (MaxPoolin  (None, 5, 5, 64)          0         \n",
      " g2D)                                                            \n",
      "                                                                 \n",
      " conv2d_2 (Conv2D)           (None, 3, 3, 128)         73856     \n",
      "                                                                 \n",
      " flatten (Flatten)           (None, 1152)              0         \n",
      "                                                                 \n",
      " dense (Dense)               (None, 128)               147584    \n",
      "                                                                 \n",
      " dense_1 (Dense)             (None, 5)                 645       \n",
      "                                                                 \n",
      "=================================================================\n",
      "Total params: 259653 (1014.27 KB)\n",
      "Trainable params: 259653 (1014.27 KB)\n",
      "Non-trainable params: 0 (0.00 Byte)\n",
      "_________________________________________________________________\n"
     ]
    }
   ],
   "source": [
    "model = models.Sequential()\n",
    "model.add(layers.Conv2D(64, (3, 3), activation='relu', input_shape=(28, 28, 1)))\n",
    "#model.add(layers.BatchNormalization())\n",
    "model.add(layers.MaxPooling2D((2, 2)))\n",
    "\n",
    "model.add(layers.Conv2D(64, (3, 3), activation='relu'))\n",
    "#model.add(layers.BatchNormalization())\n",
    "model.add(layers.MaxPooling2D((2, 2)))\n",
    "\n",
    "model.add(layers.Conv2D(128, (3, 3), activation='relu'))\n",
    "#model.add(layers.BatchNormalization())\n",
    "model.add(layers.Flatten())\n",
    "model.add(layers.Dense(128, activation='relu'))\n",
    "#model.add(layers.BatchNormalization())\n",
    "model.add(layers.Dense(5, activation='softmax'))\n",
    "#model.add(layers.BatchNormalization())\n",
    "model.summary()"
   ]
  },
  {
   "cell_type": "markdown",
   "metadata": {},
   "source": [
    "## Compiling the model"
   ]
  },
  {
   "cell_type": "code",
   "execution_count": 7,
   "metadata": {},
   "outputs": [
    {
     "name": "stdout",
     "output_type": "stream",
     "text": [
      "WARNING:tensorflow:From C:\\Users\\kubic\\AppData\\Local\\Packages\\PythonSoftwareFoundation.Python.3.11_qbz5n2kfra8p0\\LocalCache\\local-packages\\Python311\\site-packages\\keras\\src\\optimizers\\__init__.py:309: The name tf.train.Optimizer is deprecated. Please use tf.compat.v1.train.Optimizer instead.\n",
      "\n"
     ]
    }
   ],
   "source": [
    "model.compile(optimizer='Adam',\n",
    "              loss='categorical_crossentropy',\n",
    "              metrics=['accuracy'])"
   ]
  },
  {
   "cell_type": "markdown",
   "metadata": {},
   "source": [
    "## Learning rate scheduler"
   ]
  },
  {
   "cell_type": "code",
   "execution_count": 8,
   "metadata": {},
   "outputs": [],
   "source": [
    "def lr_schedule(epoch):\n",
    "    \"\"\"\n",
    "    Returns a custom learning rate that decreases as epochs progress.\n",
    "    \"\"\"\n",
    "    initial_lr = 0.001\n",
    "    drop = 0.5\n",
    "    epochs_drop = 5\n",
    "    lr = initial_lr * drop ** (epoch / epochs_drop)\n",
    "    return lr\n",
    "\n",
    "# Set up the learning rate scheduler callback\n",
    "lr_scheduler = LearningRateScheduler(lr_schedule)"
   ]
  },
  {
   "cell_type": "markdown",
   "metadata": {},
   "source": [
    "## Early stopping"
   ]
  },
  {
   "cell_type": "code",
   "execution_count": 9,
   "metadata": {},
   "outputs": [],
   "source": [
    "early_stopping = EarlyStopping(monitor='val_loss', patience=3, restore_best_weights=True)"
   ]
  },
  {
   "cell_type": "markdown",
   "metadata": {},
   "source": [
    "## Checkpoint"
   ]
  },
  {
   "cell_type": "code",
   "execution_count": 10,
   "metadata": {},
   "outputs": [],
   "source": [
    "#Set up a ModelCheckpoint to save the best model during training\n",
    "checkpoint = ModelCheckpoint('best_model.h5', save_best_only=True, monitor='val_accuracy', mode='max', verbose=1)"
   ]
  },
  {
   "cell_type": "markdown",
   "metadata": {},
   "source": [
    "## Training and testing"
   ]
  },
  {
   "cell_type": "code",
   "execution_count": 11,
   "metadata": {},
   "outputs": [
    {
     "name": "stdout",
     "output_type": "stream",
     "text": [
      "Epoch 1/50\n",
      "WARNING:tensorflow:From C:\\Users\\kubic\\AppData\\Local\\Packages\\PythonSoftwareFoundation.Python.3.11_qbz5n2kfra8p0\\LocalCache\\local-packages\\Python311\\site-packages\\keras\\src\\utils\\tf_utils.py:492: The name tf.ragged.RaggedTensorValue is deprecated. Please use tf.compat.v1.ragged.RaggedTensorValue instead.\n",
      "\n",
      "WARNING:tensorflow:From C:\\Users\\kubic\\AppData\\Local\\Packages\\PythonSoftwareFoundation.Python.3.11_qbz5n2kfra8p0\\LocalCache\\local-packages\\Python311\\site-packages\\keras\\src\\engine\\base_layer_utils.py:384: The name tf.executing_eagerly_outside_functions is deprecated. Please use tf.compat.v1.executing_eagerly_outside_functions instead.\n",
      "\n",
      "309/313 [============================>.] - ETA: 0s - loss: 0.6364 - accuracy: 0.7396\n",
      "Epoch 1: val_accuracy improved from -inf to 0.82600, saving model to best_model.h5\n",
      "313/313 [==============================] - 5s 12ms/step - loss: 0.6344 - accuracy: 0.7407 - val_loss: 0.4660 - val_accuracy: 0.8260 - lr: 0.0010\n",
      "Epoch 2/50\n",
      " 19/313 [>.............................] - ETA: 2s - loss: 0.4373 - accuracy: 0.8405"
     ]
    },
    {
     "name": "stderr",
     "output_type": "stream",
     "text": [
      "C:\\Users\\kubic\\AppData\\Local\\Packages\\PythonSoftwareFoundation.Python.3.11_qbz5n2kfra8p0\\LocalCache\\local-packages\\Python311\\site-packages\\keras\\src\\engine\\training.py:3103: UserWarning: You are saving your model as an HDF5 file via `model.save()`. This file format is considered legacy. We recommend using instead the native Keras format, e.g. `model.save('my_model.keras')`.\n",
      "  saving_api.save_model(\n"
     ]
    },
    {
     "name": "stdout",
     "output_type": "stream",
     "text": [
      "311/313 [============================>.] - ETA: 0s - loss: 0.3982 - accuracy: 0.8476\n",
      "Epoch 2: val_accuracy improved from 0.82600 to 0.85380, saving model to best_model.h5\n",
      "313/313 [==============================] - 3s 11ms/step - loss: 0.3982 - accuracy: 0.8474 - val_loss: 0.3996 - val_accuracy: 0.8538 - lr: 8.7055e-04\n",
      "Epoch 3/50\n",
      "308/313 [============================>.] - ETA: 0s - loss: 0.3492 - accuracy: 0.8695\n",
      "Epoch 3: val_accuracy improved from 0.85380 to 0.86680, saving model to best_model.h5\n",
      "313/313 [==============================] - 3s 11ms/step - loss: 0.3491 - accuracy: 0.8692 - val_loss: 0.3741 - val_accuracy: 0.8668 - lr: 7.5786e-04\n",
      "Epoch 4/50\n",
      "311/313 [============================>.] - ETA: 0s - loss: 0.3050 - accuracy: 0.8851\n",
      "Epoch 4: val_accuracy improved from 0.86680 to 0.87400, saving model to best_model.h5\n",
      "313/313 [==============================] - 3s 11ms/step - loss: 0.3053 - accuracy: 0.8847 - val_loss: 0.3514 - val_accuracy: 0.8740 - lr: 6.5975e-04\n",
      "Epoch 5/50\n",
      "307/313 [============================>.] - ETA: 0s - loss: 0.2755 - accuracy: 0.8970\n",
      "Epoch 5: val_accuracy did not improve from 0.87400\n",
      "313/313 [==============================] - 3s 11ms/step - loss: 0.2746 - accuracy: 0.8971 - val_loss: 0.3422 - val_accuracy: 0.8720 - lr: 5.7435e-04\n",
      "Epoch 6/50\n",
      "309/313 [============================>.] - ETA: 0s - loss: 0.2494 - accuracy: 0.9034\n",
      "Epoch 6: val_accuracy improved from 0.87400 to 0.87460, saving model to best_model.h5\n",
      "313/313 [==============================] - 3s 11ms/step - loss: 0.2482 - accuracy: 0.9040 - val_loss: 0.3394 - val_accuracy: 0.8746 - lr: 5.0000e-04\n",
      "Epoch 7/50\n",
      "307/313 [============================>.] - ETA: 0s - loss: 0.2263 - accuracy: 0.9155\n",
      "Epoch 7: val_accuracy improved from 0.87460 to 0.88060, saving model to best_model.h5\n",
      "313/313 [==============================] - 3s 11ms/step - loss: 0.2265 - accuracy: 0.9153 - val_loss: 0.3343 - val_accuracy: 0.8806 - lr: 4.3528e-04\n",
      "Epoch 8/50\n",
      "308/313 [============================>.] - ETA: 0s - loss: 0.2048 - accuracy: 0.9217\n",
      "Epoch 8: val_accuracy did not improve from 0.88060\n",
      "313/313 [==============================] - 3s 11ms/step - loss: 0.2044 - accuracy: 0.9217 - val_loss: 0.3477 - val_accuracy: 0.8762 - lr: 3.7893e-04\n",
      "Epoch 9/50\n",
      "311/313 [============================>.] - ETA: 0s - loss: 0.1824 - accuracy: 0.9336\n",
      "Epoch 9: val_accuracy improved from 0.88060 to 0.88160, saving model to best_model.h5\n",
      "313/313 [==============================] - 3s 11ms/step - loss: 0.1822 - accuracy: 0.9336 - val_loss: 0.3478 - val_accuracy: 0.8816 - lr: 3.2988e-04\n",
      "Epoch 10/50\n",
      "307/313 [============================>.] - ETA: 0s - loss: 0.1644 - accuracy: 0.9408\n",
      "Epoch 10: val_accuracy did not improve from 0.88160\n",
      "313/313 [==============================] - 3s 11ms/step - loss: 0.1636 - accuracy: 0.9410 - val_loss: 0.3310 - val_accuracy: 0.8812 - lr: 2.8717e-04\n",
      "Epoch 11/50\n",
      "312/313 [============================>.] - ETA: 0s - loss: 0.1469 - accuracy: 0.9464\n",
      "Epoch 11: val_accuracy did not improve from 0.88160\n",
      "313/313 [==============================] - 3s 11ms/step - loss: 0.1467 - accuracy: 0.9465 - val_loss: 0.3484 - val_accuracy: 0.8816 - lr: 2.5000e-04\n",
      "Epoch 12/50\n",
      "307/313 [============================>.] - ETA: 0s - loss: 0.1325 - accuracy: 0.9541\n",
      "Epoch 12: val_accuracy did not improve from 0.88160\n",
      "313/313 [==============================] - 3s 11ms/step - loss: 0.1322 - accuracy: 0.9544 - val_loss: 0.3520 - val_accuracy: 0.8800 - lr: 2.1764e-04\n",
      "Epoch 13/50\n",
      "308/313 [============================>.] - ETA: 0s - loss: 0.1184 - accuracy: 0.9571\n",
      "Epoch 13: val_accuracy did not improve from 0.88160\n",
      "313/313 [==============================] - 3s 11ms/step - loss: 0.1192 - accuracy: 0.9566 - val_loss: 0.3532 - val_accuracy: 0.8816 - lr: 1.8946e-04\n",
      "157/157 [==============================] - 1s 4ms/step - loss: 0.3310 - accuracy: 0.8812\n",
      "Test accuracy: 0.8812000155448914\n"
     ]
    }
   ],
   "source": [
    "#Training the model\n",
    "history = model.fit(train_x, train_y, epochs=50, batch_size=32, validation_data=(test_x, test_y), callbacks=[lr_scheduler,early_stopping,checkpoint])\n",
    "\n",
    "# Evaluate the model\n",
    "test_loss, test_acc = model.evaluate(test_x, test_y)\n",
    "print('Test accuracy:', test_acc)"
   ]
  },
  {
   "cell_type": "code",
   "execution_count": 12,
   "metadata": {},
   "outputs": [
    {
     "name": "stdout",
     "output_type": "stream",
     "text": [
      "157/157 [==============================] - 1s 4ms/step\n",
      "              precision    recall  f1-score   support\n",
      "\n",
      "           0       0.86      0.85      0.85      1000\n",
      "           1       0.99      0.98      0.98      1000\n",
      "           2       0.88      0.88      0.88      1000\n",
      "           3       0.91      0.94      0.92      1000\n",
      "           4       0.77      0.76      0.76      1000\n",
      "\n",
      "    accuracy                           0.88      5000\n",
      "   macro avg       0.88      0.88      0.88      5000\n",
      "weighted avg       0.88      0.88      0.88      5000\n",
      "\n"
     ]
    }
   ],
   "source": [
    "# Predict on the test set\n",
    "y_pred = model.predict(test_x)\n",
    "y_pred_classes = np.argmax(y_pred, axis=1)\n",
    "\n",
    "# Convert one-hot encoded true labels to class indices\n",
    "y_true_classes = np.argmax(test_y, axis=1)\n",
    "\n",
    "# Print classification report\n",
    "print(classification_report(y_true_classes, y_pred_classes))"
   ]
  },
  {
   "cell_type": "code",
   "execution_count": 13,
   "metadata": {},
   "outputs": [
    {
     "data": {
      "text/plain": [
       "<sklearn.metrics._plot.confusion_matrix.ConfusionMatrixDisplay at 0x17d042c6dd0>"
      ]
     },
     "execution_count": 13,
     "metadata": {},
     "output_type": "execute_result"
    },
    {
     "data": {
      "image/png": "[encoded data removed]",
      "text/plain": [
       "<Figure size 640x480 with 2 Axes>"
      ]
     },
     "metadata": {},
     "output_type": "display_data"
    }
   ],
   "source": [
    "confusion_matrix=confusion_matrix(y_true_classes, y_pred_classes)\n",
    "cm_display = ConfusionMatrixDisplay(confusion_matrix=confusion_matrix, display_labels=['T-shirts','Trousers','Pullover','Dress','Shirts'])\n",
    "cm_display.plot()"
   ]
  }
 ],
 "metadata": {
  "kernelspec": {
   "display_name": "Python 3",
   "language": "python",
   "name": "python3"
  },
  "language_info": {
   "codemirror_mode": {
    "name": "ipython",
    "version": 3
   },
   "file_extension": ".py",
   "mimetype": "text/x-python",
   "name": "python",
   "nbconvert_exporter": "python",
   "pygments_lexer": "ipython3",
   "version": "3.11.7"
  }
 },
 "nbformat": 4,
 "nbformat_minor": 2
}
